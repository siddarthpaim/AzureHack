{
  "nbformat": 4,
  "nbformat_minor": 0,
  "metadata": {
    "colab": {
      "name": "Siddarth_Pai_Homework 5.ipynb",
      "provenance": [],
      "collapsed_sections": [],
      "include_colab_link": true
    },
    "kernelspec": {
      "name": "python3",
      "display_name": "Python 3"
    },
    "language_info": {
      "name": "python"
    }
  },
  "cells": [
    {
      "cell_type": "markdown",
      "metadata": {
        "id": "view-in-github",
        "colab_type": "text"
      },
      "source": [
        "<a href=\"https://colab.research.google.com/github/siddarthpaim/AzureHack/blob/master/Siddarth_Pai_Homework_5.ipynb\" target=\"_parent\"><img src=\"https://colab.research.google.com/assets/colab-badge.svg\" alt=\"Open In Colab\"/></a>"
      ]
    },
    {
      "cell_type": "markdown",
      "source": [
        "# Homework 5\n",
        "\n",
        "**OPIM 5641: Business Decision Modeling - University of Connecticut**\n",
        "\n",
        "**Due Friday, May 20, 7:59am**\n",
        "\n",
        "*Please add detailed comments to all code so that I can follow your solution. If I cannot understand your code then you will not receive full credit.*\n",
        "\n",
        "-------------------------------------------------------------------------\n",
        "* Your Name Here : Siddarth Pai\n",
        "* Your NetID Here : sip21003\n"
      ],
      "metadata": {
        "id": "UJVzFeJ5xhYj"
      }
    },
    {
      "cell_type": "markdown",
      "source": [
        "# Problem 1\n",
        "\n",
        "Part A: Taking the Pharmacy data example, build an optimization model to find the best fit power model, i.e., using $f(x) = a \\cdot x^b$. (Note: we already completed this in class)\n",
        "\n",
        "Part B: Suppose it costs $\\$85$ per hour to keep the pharmacy operating.  What is the optimal number of hours that you should keep the pharmacy open based on the model from Part A?\n"
      ],
      "metadata": {
        "id": "xAJSpnzyxlZf"
      }
    },
    {
      "cell_type": "markdown",
      "source": [
        " **Part A Solution:**"
      ],
      "metadata": {
        "id": "D8YMCCJx_t0V"
      }
    },
    {
      "cell_type": "markdown",
      "source": [
        "Import Pyomo Module"
      ],
      "metadata": {
        "id": "mz-B_bu14KEd"
      }
    },
    {
      "cell_type": "code",
      "source": [
        "\n",
        "%matplotlib inline\n",
        "from pylab import *\n",
        "\n",
        "import shutil\n",
        "import sys\n",
        "import os.path\n",
        "\n",
        "if not shutil.which(\"pyomo\"):\n",
        "    !pip install -q pyomo\n",
        "    assert(shutil.which(\"pyomo\"))\n",
        "\n",
        "if not (shutil.which(\"ipopt\") or os.path.isfile(\"ipopt\")):\n",
        "    if \"google.colab\" in sys.modules:\n",
        "        !wget -N -q \"https://ampl.com/dl/open/ipopt/ipopt-linux64.zip\"\n",
        "        !unzip -o -q ipopt-linux64\n",
        "        #!apt-get install -y -qq glpk-utils\n",
        "    else:\n",
        "        try:\n",
        "            !conda install -c conda-forge ipopt\n",
        "        except:\n",
        "            pass\n",
        "\n",
        "assert(shutil.which(\"ipopt\") or os.path.isfile(\"ipopt\"))\n",
        "\n",
        "from pyomo.environ import *"
      ],
      "metadata": {
        "colab": {
          "base_uri": "https://localhost:8080/"
        },
        "id": "suEjI85Q4ib7",
        "outputId": "fe8fbc4a-3f6b-479a-8cf9-ddcd33e9a862"
      },
      "execution_count": 1,
      "outputs": [
        {
          "output_type": "stream",
          "name": "stdout",
          "text": [
            "\u001b[K     |████████████████████████████████| 9.6 MB 6.8 MB/s \n",
            "\u001b[K     |████████████████████████████████| 49 kB 1.9 MB/s \n",
            "\u001b[?25h"
          ]
        }
      ]
    },
    {
      "cell_type": "markdown",
      "source": [
        ""
      ],
      "metadata": {
        "id": "LL6OJULz4KIY"
      }
    },
    {
      "cell_type": "code",
      "source": [
        "# Additional packages\n",
        "import numpy as np\n",
        "from scipy import stats"
      ],
      "metadata": {
        "id": "m3P-ct1A4t7R"
      },
      "execution_count": 2,
      "outputs": []
    },
    {
      "cell_type": "code",
      "source": [
        "hours = [\n",
        "  40,\n",
        "  44,\n",
        "  48,\n",
        "  48,\n",
        "  60,\n",
        "  70,\n",
        "  72,\n",
        "  90,\n",
        "  100,\n",
        "  168\n",
        "]\n",
        "revenue = [\n",
        "  5958,\n",
        "  6662,\n",
        "  6004,\n",
        "  6011,\n",
        "  7250,\n",
        "  8632,\n",
        "  6964,\n",
        "  11097,\n",
        "  9107,\n",
        "  11498\n",
        "]\n",
        "hours = np.array(hours)\n",
        "revenue = np.array(revenue)\n",
        "n_points = len(hours)"
      ],
      "metadata": {
        "id": "HXDUnbuf4wB5"
      },
      "execution_count": 3,
      "outputs": []
    },
    {
      "cell_type": "code",
      "source": [
        "b,a,r_value,p_value,s_err = stats.linregress(hours,revenue)"
      ],
      "metadata": {
        "id": "tHIZFgKe7bhy"
      },
      "execution_count": 8,
      "outputs": []
    },
    {
      "cell_type": "code",
      "source": [
        "x = np.linspace(np.min(hours),np.max(hours),1000)\n",
        "y = a*x**b\n",
        "scatter(hours,revenue)\n",
        "plot(x,y,color='r')\n",
        "xlabel(\"Hours\")\n",
        "ylabel(\"Revenue\")\n",
        "title(\"Pharmacy Data\")\n",
        "legend([\"scipy\"])"
      ],
      "metadata": {
        "colab": {
          "base_uri": "https://localhost:8080/",
          "height": 312
        },
        "id": "HbwpcRaU6-1M",
        "outputId": "9e6a9556-9ce1-4dce-dab4-e5f66d1a7e1a"
      },
      "execution_count": 11,
      "outputs": [
        {
          "output_type": "execute_result",
          "data": {
            "text/plain": [
              "<matplotlib.legend.Legend at 0x7f00ce6079d0>"
            ]
          },
          "metadata": {},
          "execution_count": 11
        },
        {
          "output_type": "display_data",
          "data": {
            "text/plain": [
              "<Figure size 432x288 with 1 Axes>"
            ],
            "image/png": "[encoded data removed]"
          },
          "metadata": {
            "needs_background": "light"
          }
        }
      ]
    },
    {
      "cell_type": "code",
      "source": [
        "model_powerset = ConcreteModel()\n",
        "\n",
        "model_powerset.a = Var(domain = Reals)\n",
        "model_powerset.b = Var(domain = Reals)\n",
        "\n",
        "error_expr = 0\n",
        "\n",
        "for i in range(n_points):\n",
        "  error_expr += (revenue[i] - ( model_powerset.a * hours[i]**model_powerset.b ))**2\n",
        "\n",
        "model_powerset.mse = Objective(\n",
        "    expr = error_expr,\n",
        "    sense = minimize\n",
        ")"
      ],
      "metadata": {
        "id": "nxqKR5AI48ks"
      },
      "execution_count": 24,
      "outputs": []
    },
    {
      "cell_type": "code",
      "source": [
        "model_powerset.pprint()"
      ],
      "metadata": {
        "colab": {
          "base_uri": "https://localhost:8080/"
        },
        "id": "FsZjTImO8G9n",
        "outputId": "a618b305-ec86-46c5-bdc3-8ba13ff082c5"
      },
      "execution_count": 25,
      "outputs": [
        {
          "output_type": "stream",
          "name": "stdout",
          "text": [
            "2 Var Declarations\n",
            "    a : Size=1, Index=None\n",
            "        Key  : Lower : Value : Upper : Fixed : Stale : Domain\n",
            "        None :  None :  None :  None : False :  True :  Reals\n",
            "    b : Size=1, Index=None\n",
            "        Key  : Lower : Value : Upper : Fixed : Stale : Domain\n",
            "        None :  None :  None :  None : False :  True :  Reals\n",
            "\n",
            "1 Objective Declarations\n",
            "    mse : Size=1, Index=None, Active=True\n",
            "        Key  : Active : Sense    : Expression\n",
            "        None :   True : minimize : (5958 - a*40**b)**2 + (6662 - a*44**b)**2 + (6004 - a*48**b)**2 + (6011 - a*48**b)**2 + (7250 - a*60**b)**2 + (8632 - a*70**b)**2 + (6964 - a*72**b)**2 + (11097 - a*90**b)**2 + (9107 - a*100**b)**2 + (11498 - a*168**b)**2\n",
            "\n",
            "3 Declarations: a b mse\n"
          ]
        }
      ]
    },
    {
      "cell_type": "code",
      "source": [
        "opt = SolverFactory('ipopt',executable=\"/content/ipopt\")\n",
        "opt_success = opt.solve(model_powerset,tee=True)"
      ],
      "metadata": {
        "colab": {
          "base_uri": "https://localhost:8080/"
        },
        "id": "FDoMlsq29jaG",
        "outputId": "268209bc-37a6-4a70-cf97-f20a9b6501e5"
      },
      "execution_count": 26,
      "outputs": [
        {
          "output_type": "stream",
          "name": "stdout",
          "text": [
            "Ipopt 3.12.13: \n",
            "\n",
            "******************************************************************************\n",
            "This program contains Ipopt, a library for large-scale nonlinear optimization.\n",
            " Ipopt is released as open source code under the Eclipse Public License (EPL).\n",
            "         For more information visit http://projects.coin-or.org/Ipopt\n",
            "******************************************************************************\n",
            "\n",
            "This is Ipopt version 3.12.13, running with linear solver mumps.\n",
            "NOTE: Other linear solvers might be more efficient (see Ipopt documentation).\n",
            "\n",
            "Number of nonzeros in equality constraint Jacobian...:        0\n",
            "Number of nonzeros in inequality constraint Jacobian.:        0\n",
            "Number of nonzeros in Lagrangian Hessian.............:        3\n",
            "\n",
            "Total number of variables............................:        2\n",
            "                     variables with only lower bounds:        0\n",
            "                variables with lower and upper bounds:        0\n",
            "                     variables with only upper bounds:        0\n",
            "Total number of equality constraints.................:        0\n",
            "Total number of inequality constraints...............:        0\n",
            "        inequality constraints with only lower bounds:        0\n",
            "   inequality constraints with lower and upper bounds:        0\n",
            "        inequality constraints with only upper bounds:        0\n",
            "\n",
            "iter    objective    inf_pr   inf_du lg(mu)  ||d||  lg(rg) alpha_du alpha_pr  ls\n",
            "   0  6.6591623e+08 0.00e+00 1.00e+02  -1.0 0.00e+00    -  0.00e+00 0.00e+00   0\n",
            "   1  6.6591464e+08 0.00e+00 1.00e+02  -1.0 1.00e-02   4.0 1.00e+00 1.00e+00f  1\n",
            "   2  6.6590961e+08 0.00e+00 1.02e+02  -1.0 3.07e-02   3.5 1.00e+00 1.00e+00f  1\n",
            "   3  6.6588132e+08 0.00e+00 1.38e+02  -1.0 1.19e-01   3.0 1.00e+00 1.00e+00f  1\n",
            "   4  6.6585747e+08 0.00e+00 1.71e+02  -1.0 5.66e-02   3.5 1.00e+00 1.00e+00f  1\n",
            "   5  6.6584358e+08 0.00e+00 1.99e+02  -1.0 2.48e-02   3.9 1.00e+00 1.00e+00f  1\n",
            "   6  6.6568255e+08 0.00e+00 6.44e+02  -1.0 1.72e-01   3.4 1.00e+00 1.00e+00f  1\n",
            "   7  6.6519287e+08 0.00e+00 2.01e+03  -1.0 1.99e-01   3.8 1.00e+00 1.00e+00f  1\n",
            "   8  6.6317452e+08 0.00e+00 7.72e+03  -1.0 2.54e-01   4.3 1.00e+00 1.00e+00f  1\n",
            "   9  5.6353290e+08 0.00e+00 2.81e+05  -1.0 7.29e-01   4.7 1.00e+00 1.00e+00f  1\n",
            "iter    objective    inf_pr   inf_du lg(mu)  ||d||  lg(rg) alpha_du alpha_pr  ls\n",
            "  10  5.4366323e+08 0.00e+00 3.31e+05  -1.0 3.85e-02   6.9 1.00e+00 1.00e+00f  1\n",
            "  11  3.5293557e+08 0.00e+00 6.49e+05  -1.0 2.26e-01   6.5 1.00e+00 1.00e+00f  1\n",
            "  12  2.3230947e+08 0.00e+00 4.73e+04  -1.0 1.15e+00   6.0 1.00e+00 1.25e-01f  4\n",
            "  13  2.2215316e+08 0.00e+00 3.86e+05  -1.0 7.28e-01    -  1.00e+00 1.00e+00f  1\n",
            "  14  2.0043355e+08 0.00e+00 1.42e+05  -1.0 4.54e-01    -  1.00e+00 1.00e+00f  1\n",
            "  15  1.9863068e+08 0.00e+00 1.18e+04  -1.0 3.79e-02   5.5 1.00e+00 1.00e+00f  1\n",
            "  16  1.8488745e+08 0.00e+00 2.75e+05  -1.0 2.51e+00    -  1.00e+00 5.00e-01f  2\n",
            "  17  1.6722927e+08 0.00e+00 5.35e+04  -1.0 1.17e+00    -  1.00e+00 1.00e+00f  1\n",
            "  18  1.5592525e+08 0.00e+00 4.03e+05  -1.0 3.35e+00    -  1.00e+00 1.00e+00f  1\n",
            "  19  1.3437473e+08 0.00e+00 1.08e+05  -1.0 2.08e+00    -  1.00e+00 1.00e+00f  1\n",
            "iter    objective    inf_pr   inf_du lg(mu)  ||d||  lg(rg) alpha_du alpha_pr  ls\n",
            "  20  1.1839974e+08 0.00e+00 1.97e+05  -1.0 4.19e+01    -  1.00e+00 1.25e-01f  4\n",
            "  21  1.0360090e+08 0.00e+00 1.51e+05  -1.0 6.06e+00    -  1.00e+00 1.00e+00f  1\n",
            "  22  8.9968594e+07 0.00e+00 2.04e+05  -1.0 9.52e+00    -  1.00e+00 1.00e+00f  1\n",
            "  23  7.6663202e+07 0.00e+00 1.32e+05  -1.0 1.12e+01    -  1.00e+00 1.00e+00f  1\n",
            "  24  6.4995595e+07 0.00e+00 2.10e+05  -1.0 1.85e+01    -  1.00e+00 1.00e+00f  1\n",
            "  25  5.3696627e+07 0.00e+00 1.06e+05  -1.0 1.94e+01    -  1.00e+00 1.00e+00f  1\n",
            "  26  4.4479465e+07 0.00e+00 2.17e+05  -1.0 3.47e+01    -  1.00e+00 1.00e+00f  1\n",
            "  27  3.5469289e+07 0.00e+00 7.36e+04  -1.0 3.09e+01    -  1.00e+00 1.00e+00f  1\n",
            "  28  2.9015985e+07 0.00e+00 2.26e+05  -1.0 6.33e+01    -  1.00e+00 1.00e+00f  1\n",
            "  29  2.2230941e+07 0.00e+00 3.62e+04  -1.0 4.36e+01    -  1.00e+00 1.00e+00f  1\n",
            "iter    objective    inf_pr   inf_du lg(mu)  ||d||  lg(rg) alpha_du alpha_pr  ls\n",
            "  30  1.8806716e+07 0.00e+00 2.43e+05  -1.0 1.14e+02    -  1.00e+00 1.00e+00f  1\n",
            "  31  1.3676025e+07 0.00e+00 2.96e+03  -1.0 5.08e+01    -  1.00e+00 1.00e+00f  1\n",
            "  32  1.1425204e+07 0.00e+00 9.03e+04  -1.0 2.10e+02    -  1.00e+00 5.00e-01f  2\n",
            "  33  9.6163189e+06 0.00e+00 4.88e+04  -1.0 9.63e+01    -  1.00e+00 1.00e+00f  1\n",
            "  34  8.5289170e+06 0.00e+00 5.77e+04  -1.0 1.21e+02    -  1.00e+00 1.00e+00f  1\n",
            "  35  7.9108654e+06 0.00e+00 2.39e+04  -1.0 9.24e+01    -  1.00e+00 1.00e+00f  1\n",
            "  36  7.6479970e+06 0.00e+00 2.28e+04  -1.0 9.91e+01    -  1.00e+00 1.00e+00f  1\n",
            "  37  7.5666340e+06 0.00e+00 5.64e+03  -1.0 5.46e+01    -  1.00e+00 1.00e+00f  1\n",
            "  38  7.5550360e+06 0.00e+00 1.72e+03  -1.0 3.12e+01    -  1.00e+00 1.00e+00f  1\n",
            "  39  7.5546499e+06 0.00e+00 4.98e+01  -1.0 5.45e+00    -  1.00e+00 1.00e+00f  1\n",
            "iter    objective    inf_pr   inf_du lg(mu)  ||d||  lg(rg) alpha_du alpha_pr  ls\n",
            "  40  7.5546493e+06 0.00e+00 1.09e-01  -1.0 2.55e-01    -  1.00e+00 1.00e+00f  1\n",
            "  41  7.5546493e+06 0.00e+00 2.36e-07  -2.5 3.76e-04    -  1.00e+00 1.00e+00f  1\n",
            "  42  7.5546493e+06 0.00e+00 2.07e-10  -8.6 1.12e-09    -  1.00e+00 1.00e+00f  1\n",
            "\n",
            "Number of Iterations....: 42\n",
            "\n",
            "                                   (scaled)                 (unscaled)\n",
            "Objective...............:   4.7703732335426748e+03    7.5546492750321925e+06\n",
            "Dual infeasibility......:   2.0700500502926665e-10    3.2782554626464844e-07\n",
            "Constraint violation....:   0.0000000000000000e+00    0.0000000000000000e+00\n",
            "Complementarity.........:   0.0000000000000000e+00    0.0000000000000000e+00\n",
            "Overall NLP error.......:   2.0700500502926665e-10    3.2782554626464844e-07\n",
            "\n",
            "\n",
            "Number of objective function evaluations             = 67\n",
            "Number of objective gradient evaluations             = 43\n",
            "Number of equality constraint evaluations            = 0\n",
            "Number of inequality constraint evaluations          = 0\n",
            "Number of equality constraint Jacobian evaluations   = 0\n",
            "Number of inequality constraint Jacobian evaluations = 0\n",
            "Number of Lagrangian Hessian evaluations             = 42\n",
            "Total CPU secs in IPOPT (w/o function evaluations)   =      0.032\n",
            "Total CPU secs in NLP function evaluations           =      0.001\n",
            "\n",
            "EXIT: Optimal Solution Found.\n",
            "\b\b\b\b\b\b\b\b\b\b\b\b\b\b\b"
          ]
        }
      ]
    },
    {
      "cell_type": "code",
      "source": [
        "print(\"Coefficients: \", round(value(model_powerset.a),2) , \"\\t\", round(value(model_powerset.b),2) )"
      ],
      "metadata": {
        "colab": {
          "base_uri": "https://localhost:8080/"
        },
        "id": "Wqh-__HC-IQH",
        "outputId": "fca19c63-6b2a-4ca6-baec-8ce2f0e03254"
      },
      "execution_count": 27,
      "outputs": [
        {
          "output_type": "stream",
          "name": "stdout",
          "text": [
            "Coefficients:  1022.03 \t 0.48\n"
          ]
        }
      ]
    },
    {
      "cell_type": "code",
      "source": [
        "\n",
        "y_powerset = value(model_powerset.a) * x**value(model_powerset.b)\n"
      ],
      "metadata": {
        "id": "QDkl8PZM-i4F"
      },
      "execution_count": 28,
      "outputs": []
    },
    {
      "cell_type": "code",
      "source": [
        "scatter(hours,revenue)\n",
        "plot(x,y_powerset,color='green')\n",
        "xlabel(\"Hours\")\n",
        "ylabel(\"Revenue\")\n",
        "title(\"Pharmacy Data\")\n",
        "legend([\"Power\"])"
      ],
      "metadata": {
        "colab": {
          "base_uri": "https://localhost:8080/",
          "height": 312
        },
        "id": "c8NfwJyE_B_W",
        "outputId": "6477d340-ec13-44e0-bcdb-ebf8372aa289"
      },
      "execution_count": 31,
      "outputs": [
        {
          "output_type": "execute_result",
          "data": {
            "text/plain": [
              "<matplotlib.legend.Legend at 0x7f00ca7064d0>"
            ]
          },
          "metadata": {},
          "execution_count": 31
        },
        {
          "output_type": "display_data",
          "data": {
            "text/plain": [
              "<Figure size 432x288 with 1 Axes>"
            ],
            "image/png": "[encoded data removed]"
          },
          "metadata": {
            "needs_background": "light"
          }
        }
      ]
    },
    {
      "cell_type": "code",
      "source": [
        ""
      ],
      "metadata": {
        "id": "yjELWiEs_cs_"
      },
      "execution_count": null,
      "outputs": []
    },
    {
      "cell_type": "markdown",
      "source": [
        ""
      ],
      "metadata": {
        "id": "OMp0NbzV_c8T"
      }
    },
    {
      "cell_type": "markdown",
      "source": [
        "# Problem 2\n",
        "\n",
        "Answer part 1(a) in the project. Each individual must turn in the solution. The answer must be based on reading the data into python and finding the answer by using the matrix that we built.  Please answer the problem for both the small network and the large network. "
      ],
      "metadata": {
        "id": "a6fmTZIhyDD9"
      }
    }
  ]
}